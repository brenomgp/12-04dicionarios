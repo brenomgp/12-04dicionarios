{
  "nbformat": 4,
  "nbformat_minor": 0,
  "metadata": {
    "colab": {
      "provenance": [],
      "authorship_tag": "ABX9TyO7ipiI0Qya5PjcpqUb4wxk",
      "include_colab_link": true
    },
    "kernelspec": {
      "name": "python3",
      "display_name": "Python 3"
    },
    "language_info": {
      "name": "python"
    }
  },
  "cells": [
    {
      "cell_type": "markdown",
      "metadata": {
        "id": "view-in-github",
        "colab_type": "text"
      },
      "source": [
        "<a href=\"https://colab.research.google.com/github/brenomgp/12-04dicionarios/blob/main/africadbec2_py.ipynb\" target=\"_parent\"><img src=\"https://colab.research.google.com/assets/colab-badge.svg\" alt=\"Open In Colab\"/></a>"
      ]
    },
    {
      "cell_type": "code",
      "execution_count": 2,
      "metadata": {
        "id": "glxy9cb_B1c8"
      },
      "outputs": [],
      "source": [
        "import mysql.connector\n",
        "\n",
        "# Definindo as informações para conexão\n",
        "config = {\n",
        "  'user': 'userdb',\n",
        "  'password': 'senha123',\n",
        "  'host': '10.108.22.41',\n",
        "  'database': 'africadb'\n",
        "}\n",
        "\n",
        "# Estabelecendo a conexão com o bd\n",
        "try:\n",
        "    conn = mysql.connector.connect(**config)\n",
        "    print(\"Conexão executada com sucesso.\")\n",
        "except mysql.connector.Error as err:\n",
        "    print(f\"Conexão falhou: {err}\")\n",
        "    \n",
        "# Fechando a conexão\n",
        "conn.close()\n",
        "\n",
        "cursor = conn.cursor()\n",
        "\n",
        "# Pedindo ao usuário o nome e código do estado\n",
        "ID_animal = int(input(\"Digite o ID de um novo animal: \"))\n",
        "raca = input(\"Digite o nome da raça: \")\n",
        "quantidade = int(input(\"Digite a quantidade de animais: \"))\n",
        "risco_extin = input(\"Digite se possui risco de extinção (sim / não):  \")\n",
        "localiz_animal = input(\"Digite a região em que foi encontrado o animal (norte, sul, leste ou oeste)\")\n",
        "# Inserindo o estado na tabela\n",
        "sql = \"INSERT INTO africa (ID_animal, raca, quantidade, risco_extin, localiz_animal) VALUES (%s, %s, %s, %s, %s)\"\n",
        "val = (ID_animal, raca, quantidade, risco_extin, localiz_animal)\n",
        "cursor.execute(sql, val)\n",
        "\n",
        "# Efetuando as mudanças no banco de dados\n",
        "conn.commit()\n",
        "\n",
        "print(cursor.rowcount, \"registro(s) inserido(s) com sucesso.\")\n",
        "\n",
        "# Fechando a conexão e o cursor\n",
        "conn.close()"
      ]
    }
  ]
}