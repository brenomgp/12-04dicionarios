{
  "nbformat": 4,
  "nbformat_minor": 0,
  "metadata": {
    "colab": {
      "provenance": [],
      "authorship_tag": "ABX9TyP3LDZEzL+mdYMRhdkmOJHX",
      "include_colab_link": true
    },
    "kernelspec": {
      "name": "python3",
      "display_name": "Python 3"
    },
    "language_info": {
      "name": "python"
    }
  },
  "cells": [
    {
      "cell_type": "markdown",
      "metadata": {
        "id": "view-in-github",
        "colab_type": "text"
      },
      "source": [
        "<a href=\"https://colab.research.google.com/github/brenomgp/12-04dicionarios/blob/main/and.or.ipynb\" target=\"_parent\"><img src=\"https://colab.research.google.com/assets/colab-badge.svg\" alt=\"Open In Colab\"/></a>"
      ]
    },
    {
      "cell_type": "code",
      "execution_count": 1,
      "metadata": {
        "colab": {
          "base_uri": "https://localhost:8080/"
        },
        "id": "xSkJz8Ae7BJ7",
        "outputId": "a55422fa-7153-4dcb-92d1-8b03aec487ea"
      },
      "outputs": [
        {
          "output_type": "stream",
          "name": "stdout",
          "text": [
            "Digite o primeiro número: 3\n",
            "Digite o segundo número: 6\n",
            "Digite o terceiro número: 9\n",
            "Nenhum dos números é maior do que a soma dos outros dois.\n"
          ]
        }
      ],
      "source": [
        "num1 = float(input(\"Digite o primeiro número: \"))\n",
        "num2 = float(input(\"Digite o segundo número: \"))\n",
        "num3 = float(input(\"Digite o terceiro número: \"))\n",
        "\n",
        "if num1 > num2 + num3:\n",
        "    print(f\"{num1} é maior do que a soma de {num2} e {num3}.\")\n",
        "elif num2 > num1 + num3:\n",
        "    print(f\"{num2} é maior do que a soma de {num1} e {num3}.\")\n",
        "elif num3 > num1 + num2:\n",
        "    print(f\"{num3} é maior do que a soma de {num1} e {num2}.\")\n",
        "else:\n",
        "    print(\"Nenhum dos números é maior do que a soma dos outros dois.\")\n"
      ]
    },
    {
      "cell_type": "code",
      "source": [
        "nota1 = float(input(\"Digite a primeira nota: \"))\n",
        "nota2 = float(input(\"Digite a segunda nota: \"))\n",
        "\n",
        "soma_notas = nota1 + nota2\n",
        "\n",
        "if soma_notas >= 60 and nota1 >= 40 and nota2 >= 40:\n",
        "    print(\"Aluno aprovado!\")\n",
        "else:\n",
        "    print(\"Aluno reprovado!\")\n"
      ],
      "metadata": {
        "colab": {
          "base_uri": "https://localhost:8080/"
        },
        "id": "89rhCS-Z7d16",
        "outputId": "e877559d-52d0-47b8-8221-66b0c452a6f7"
      },
      "execution_count": 5,
      "outputs": [
        {
          "output_type": "stream",
          "name": "stdout",
          "text": [
            "Digite a primeira nota: 40\n",
            "Digite a segunda nota: 50\n",
            "Aluno aprovado!\n"
          ]
        }
      ]
    },
    {
      "cell_type": "code",
      "source": [
        "idade = int(input(\"Digite a idade: \"))\n",
        "autorizacao_pais = input(\"Possui autorização dos pais? (S/N): \")\n",
        "\n",
        "if idade >= 18 or autorizacao_pais.upper() == \"S\":\n",
        "    print(\"Pode entrar.\")\n",
        "else:\n",
        "    print(\"Acesso restrito.\")\n"
      ],
      "metadata": {
        "colab": {
          "base_uri": "https://localhost:8080/"
        },
        "id": "EdJ4hEj_7zO6",
        "outputId": "a5d842e3-f057-4539-a6d1-010554d62b48"
      },
      "execution_count": 6,
      "outputs": [
        {
          "output_type": "stream",
          "name": "stdout",
          "text": [
            "Digite a idade: 8\n",
            "Possui autorização dos pais? (S/N): n\n",
            "Acesso restrito.\n"
          ]
        }
      ]
    },
    {
      "cell_type": "code",
      "source": [
        "numero = int(input(\"Digite um número: \"))\n",
        "\n",
        "if numero % 2 == 0:\n",
        "    print(\"O número é par.\")\n",
        "elif numero % 3 == 0:\n",
        "    print(\"O número é divisível por 3.\")\n",
        "else:\n",
        "    print(\"O número não é par e nem divisível por 3.\")\n"
      ],
      "metadata": {
        "colab": {
          "base_uri": "https://localhost:8080/"
        },
        "id": "YByv9FVK8Apq",
        "outputId": "c96dfe6a-122c-4090-c0e7-058f3bbad650"
      },
      "execution_count": 7,
      "outputs": [
        {
          "output_type": "stream",
          "name": "stdout",
          "text": [
            "Digite um número: 9\n",
            "O número é divisível por 3.\n"
          ]
        }
      ]
    },
    {
      "cell_type": "code",
      "source": [
        "idade = int(input(\"Digite a idade da pessoa: \"))\n",
        "alfabetizada = input(\"A pessoa é alfabetizada? (S/N): \")\n",
        "\n",
        "if idade > 25 and alfabetizada.upper() == \"S\":\n",
        "    print(\"A pessoa é alfabetizada e tem mais de 25 anos.\")\n",
        "else:\n",
        "    print(\"A pessoa não atende aos critérios de idade e alfabetização.\")\n"
      ],
      "metadata": {
        "colab": {
          "base_uri": "https://localhost:8080/"
        },
        "id": "2j0BKOfy8Jb_",
        "outputId": "37187683-296f-49df-fd63-9810313fe9d3"
      },
      "execution_count": 8,
      "outputs": [
        {
          "output_type": "stream",
          "name": "stdout",
          "text": [
            "Digite a idade da pessoa: 8\n",
            "A pessoa é alfabetizada? (S/N): S\n",
            "A pessoa não atende aos critérios de idade e alfabetização.\n"
          ]
        }
      ]
    }
  ]
}